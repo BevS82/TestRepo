{
 "cells": [
  {
   "cell_type": "markdown",
   "id": "8cc8f7e8-d045-4232-b471-a308952e1447",
   "metadata": {},
   "source": [
    "# Data Science Tools and Ecosystem"
   ]
  },
  {
   "cell_type": "markdown",
   "id": "008a657c-0e68-4289-8d74-ba1d6d2587eb",
   "metadata": {},
   "source": [
    "# In this notebook, Data Science Tools and Ecosystem are summarized."
   ]
  },
  {
   "cell_type": "markdown",
   "id": "cafc88a5-9442-4467-b28c-52c9e0abad95",
   "metadata": {},
   "source": [
    "# Objectives\n",
    "- List Data Science Languages\n",
    "- List Data Science Tools\n",
    "- Creating a Table of Data Science Tools\n",
    "- Insert different headers\n",
    "- Execute simple arithmetic expressions"
   ]
  },
  {
   "cell_type": "markdown",
   "id": "1526a31d-f90b-4140-bd99-75f4c6d1302c",
   "metadata": {},
   "source": [
    "# Some of the popular languages that Data Scientists use are:\n",
    "1. Python\n",
    "2. R\n",
    "3. SQL\n",
    "4. Julia\n"
   ]
  },
  {
   "cell_type": "markdown",
   "id": "703cfcca-9790-4cb1-81fd-1b5343ef8cbe",
   "metadata": {},
   "source": [
    "# Some of the commonly used libraries used by Data Scientists include:\n",
    "1. Pandas\n",
    "2. Matplotlib\n",
    "3. Numpy\n",
    "4. TensorFlow"
   ]
  },
  {
   "cell_type": "markdown",
   "id": "c941bb51-0ff0-4df6-9bac-1dd108120ac3",
   "metadata": {},
   "source": [
    "| Data Science Tools |\n",
    "|--------------------|\n",
    "| Jupyter Notebooks |\n",
    "| Hadoop |\n",
    "| Apache |\n",
    "\n"
   ]
  },
  {
   "cell_type": "markdown",
   "id": "2a7845e1-5d83-4224-81d0-a6fbc8388827",
   "metadata": {},
   "source": [
    "### Below are a few examples of evaluating arithmetic expressions in Python"
   ]
  },
  {
   "cell_type": "code",
   "execution_count": 1,
   "id": "27291468-b72e-41c2-bfd9-4807383a21ca",
   "metadata": {},
   "outputs": [
    {
     "data": {
      "text/plain": [
       "17"
      ]
     },
     "execution_count": 1,
     "metadata": {},
     "output_type": "execute_result"
    }
   ],
   "source": [
    "# This is a simple arithmetic expression to multiply then add integers\n",
    "(3*4)+5"
   ]
  },
  {
   "cell_type": "code",
   "execution_count": 2,
   "id": "decd8500-83d8-4251-acfe-d3c2f9e16af4",
   "metadata": {},
   "outputs": [
    {
     "data": {
      "text/plain": [
       "3.3333333333333335"
      ]
     },
     "execution_count": 2,
     "metadata": {},
     "output_type": "execute_result"
    }
   ],
   "source": [
    "# this code will convert 200 minutes to hours be dividing by 60\n",
    "200/60"
   ]
  },
  {
   "cell_type": "markdown",
   "id": "0688bc21-9645-4c5d-bdbe-7611e8b508e4",
   "metadata": {},
   "source": [
    "## Author\n",
    "Bev Stewart"
   ]
  },
  {
   "cell_type": "code",
   "execution_count": null,
   "id": "2bfda328-5d2f-4dc1-8afa-b98c12a41c5f",
   "metadata": {},
   "outputs": [],
   "source": []
  }
 ],
 "metadata": {
  "kernelspec": {
   "display_name": "Python [conda env:MyAnaconda]",
   "language": "python",
   "name": "conda-env-MyAnaconda-py"
  },
  "language_info": {
   "codemirror_mode": {
    "name": "ipython",
    "version": 3
   },
   "file_extension": ".py",
   "mimetype": "text/x-python",
   "name": "python",
   "nbconvert_exporter": "python",
   "pygments_lexer": "ipython3",
   "version": "3.13.5"
  }
 },
 "nbformat": 4,
 "nbformat_minor": 5
}
